{
 "cells": [
  {
   "cell_type": "markdown",
   "id": "904a5f17",
   "metadata": {},
   "source": [
    "# Тема \"Производная функции нескольких переменных\""
   ]
  },
  {
   "cell_type": "markdown",
   "id": "c0a850f6",
   "metadata": {},
   "source": [
    "__Задание №1.__ Найти область определения функции.\n",
    "\n",
    "$\\large z=\\sqrt{1-x^3}+\\ln\\big(y^2-1\\big)$\n",
    "\n",
    "Значения подкоренного выражения 2-ой степени должны быть больше либо равны 0, поэтому:\n",
    "\n",
    "$\\large 1-x^3\\ge 0\\,\\,\\,\\Rightarrow\\,\\,\\,x\\le 1$\n",
    "\n",
    "Значения подлогарифменного выражения - строго больше 0:\n",
    "\n",
    "$\\large y^2-1>0\\,\\,\\,\\Rightarrow\\,\\,\\,|y|>1$\n",
    "\n",
    "__Ответ:__ Область определения функции $\\normalsize z(x,y):\\,\\,\\,x\\in (-\\infty,1];\\,\\,\\,y\\in (-\\infty,1)\\cup(1,+\\infty)$\n",
    "___"
   ]
  },
  {
   "cell_type": "markdown",
   "id": "8ffee2f5",
   "metadata": {},
   "source": [
    "__Задание №2.__  Найти производные 1-го порядка функции.\n",
    "\n",
    "$\\large\\displaystyle z=\\Bigg(1+\\frac{\\ln x}{\\ln y}\\Bigg)^3$\n",
    "\n",
    "$\\large\\displaystyle z'_x = 3\\Bigg(1+\\frac{\\ln x}{\\ln y}\\Bigg)^2\\cdot\\Bigg(1+\\frac{\\ln x}{\\ln y}\\Bigg)'_x = 3\\Bigg(1+\\frac{\\ln x}{\\ln y}\\Bigg)^2\\cdot\\frac{1}{x\\ln y}$\n",
    "\n",
    "$\\large\\displaystyle z'_y = 3\\Bigg(1+\\frac{\\ln x}{\\ln y}\\Bigg)^2\\cdot\\Bigg(1+\\frac{\\ln x}{\\ln y}\\Bigg)'_y = 3\\Bigg(1+\\frac{\\ln x}{\\ln y}\\Bigg)^2\\cdot\\Bigg(-\\frac{\\ln x}{y\\ln^2 y}\\Bigg) = -3\\Bigg(1+\\frac{\\ln x}{\\ln y}\\Bigg)^2\\cdot\\frac{\\ln x}{y\\ln^2 y}$\n",
    "___"
   ]
  },
  {
   "cell_type": "markdown",
   "id": "80fc74a5",
   "metadata": {},
   "source": [
    "__Задание №3.__ Найти полный дифференциал функции в точке (1;1).\n",
    "\n",
    "$\\large\\displaystyle z=\\sqrt{2xy+\\cos\\frac{x}{y}}$\n",
    "\n",
    "Найдем частные производные:\n",
    "\n",
    "$\\large\\displaystyle z'_x = \\frac{1}{2\\sqrt{2xy+\\cos{\\displaystyle\\frac{x}{y}}}}\\cdot\\Bigg(2xy+\\cos\\frac{x}{y}\\Bigg)'_x = \\frac{1}{2\\sqrt{2xy+\\cos{\\displaystyle\\frac{x}{y}}}}\\cdot\\Bigg(2y-\\frac{1}{y}\\sin\\frac{x}{y}\\Bigg)$\n",
    "\n",
    "$\\large\\displaystyle z'_x(1,1) = \\frac{2-\\sin1}{2\\sqrt{2+\\cos1}}$\n",
    "\n",
    "$\\large\\displaystyle z'_y = \\frac{1}{2\\sqrt{2xy+\\cos{\\displaystyle\\frac{x}{y}}}}\\cdot\\Bigg(2xy+\\cos\\frac{x}{y}\\Bigg)'_y = \\frac{1}{2\\sqrt{2xy+\\cos{\\displaystyle\\frac{x}{y}}}}\\cdot\\Bigg(2x-\\sin\\frac{x}{y}\\cdot\\bigg(\\frac{x}{y}\\bigg)'_y\\Bigg) = \\frac{1}{2\\sqrt{2xy+\\cos{\\displaystyle\\frac{x}{y}}}}\\cdot\\Bigg(2x+\\frac{x}{y^2}\\sin\\frac{x}{y}\\Bigg)$\n",
    "\n",
    "$\\large\\displaystyle z'_y(1,1) = \\frac{2+\\sin1}{2\\sqrt{2+\\cos1}}$\n",
    "\n",
    "Полный дифференциал функции 2-х переменных:\n",
    "\n",
    "$\\large\\displaystyle dz = z'_xdx + z'_ydy = \\frac{2-\\sin1}{2\\sqrt{2+\\cos1}}dx + \\frac{2+\\sin1}{2\\sqrt{2+\\cos1}}dy \\approx 0,363dx + 0,891dy$\n",
    "___"
   ]
  },
  {
   "cell_type": "markdown",
   "id": "26e07556",
   "metadata": {},
   "source": [
    "__Задание №4.__  Исследовать на экстремумы функцию.\n",
    "\n",
    "$\\large\\displaystyle z=x^2+xy+y^2-6x-9y$\n",
    "\n",
    "___Необходимое условия экстремума:___   \n",
    "Найдем частные производные 1-го порядка, приравняем их к нулю и найдем стационарные точки, решив систему из 2-х уравнений:\n",
    "\n",
    "$\\large\\displaystyle\\begin{cases}\n",
    "    z'_x = 2x+y-6 = 0 \\\\\n",
    "    z'_y = x+2y-9 = 0\n",
    "  \\end{cases}$\n",
    "\n",
    "$\\large\\displaystyle\\begin{cases}\n",
    "    2x+y-6 = 0 \\\\\n",
    "    2x+4y-18 = 0\n",
    "  \\end{cases}$\n",
    "\n",
    "$\\large\\displaystyle\\begin{cases}\n",
    "    x=1 \\\\\n",
    "    y=4\n",
    "  \\end{cases}$\n",
    "\n",
    "Найдена одна стационарная точка (1, 4).\n",
    "\n",
    "___Достаточное условие экстремума:___   \n",
    "Найдем частные производные 2-го порядка и из них два главных минора матрицы Гёссе:\n",
    "\n",
    "$\\large\\displaystyle z''_{xx} = 2$\n",
    "\n",
    "$\\large\\displaystyle z''_{xy} = z''_{yx} = 1$\n",
    "\n",
    "$\\large\\displaystyle z''_{yy} = 2$\n",
    "\n",
    "$\\large\\displaystyle \\Delta_1 = z''_{xx} = 2 > 0$\n",
    "\n",
    "$\\large\\displaystyle \\Delta_2 = \\begin{vmatrix}\n",
    "  z''_{xx} & z''{xy} \\\\\n",
    "  z''_{yx} & z''{yy}\n",
    "  \\end{vmatrix} = z''_{xx}\\cdot z''_{yy} - (z''_{xy})^2 = 3 > 0$\n",
    "\n",
    "Оба минора положительные, значит найденная стационарная точка (1, 4) является минимумом.\n",
    "\n",
    "__Ответ:__ $(1, 4)$ - точка минимума, $z(1,4) = -21$"
   ]
  }
 ],
 "metadata": {
  "kernelspec": {
   "display_name": "Python 3",
   "language": "python",
   "name": "python3"
  },
  "language_info": {
   "codemirror_mode": {
    "name": "ipython",
    "version": 3
   },
   "file_extension": ".py",
   "mimetype": "text/x-python",
   "name": "python",
   "nbconvert_exporter": "python",
   "pygments_lexer": "ipython3",
   "version": "3.8.8"
  }
 },
 "nbformat": 4,
 "nbformat_minor": 5
}
