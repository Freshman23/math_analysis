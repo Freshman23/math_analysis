{
 "cells": [
  {
   "cell_type": "markdown",
   "id": "ce47276e",
   "metadata": {},
   "source": [
    "# Тема \"Предел функции\"\n",
    "Найти пределы функции:"
   ]
  },
  {
   "cell_type": "markdown",
   "id": "ed022689",
   "metadata": {},
   "source": [
    "- $\\displaystyle \\large \\lim_{x \\to \\infty} \\Bigg(\\frac{x+3}{x}\\Bigg)^{4x+1} = \\lim_{x \\to \\infty} \\Bigg(1+\\frac{3}{x}\\Bigg)^{4x+1} = \\lim_{x \\to \\infty} \\Bigg(1+\\frac{3}{x}\\Bigg)^{\\frac{x}{3}\\frac{3}{x}(4x+1)}$\n",
    "\n",
    "  Воспользовавшись вторым замечательным пределом получим:\n",
    "  \n",
    "  $\\displaystyle \\large \\lim_{x \\to \\infty} \\Bigg(1+\\frac{3}{x}\\Bigg)^{\\frac{x}{3}\\frac{3}{x}(4x+1)} = e^{\\displaystyle \\lim_{x \\to \\infty} \\frac{3}{x}(4x+1)} = e^{12}$\n",
    "  \n",
    "  __Ответ__: $\\large e^{12}$\n",
    "___\n",
    "- $\\displaystyle \\large \\lim_{x \\to 0} \\frac{\\sin{(2x)}}{4x} = \\lim_{x \\to 0} \\frac{\\sin{(2x)}}{2\\cdot2x}$\n",
    "\n",
    "  Воспользовавшись первым замечательным пределом, получим:\n",
    "  \n",
    "  $\\displaystyle \\large \\lim_{x \\to 0} \\frac{\\sin{(2x)}}{2\\cdot2x} = \\frac{1}{2}$\n",
    "  \n",
    "  __Ответ__: $\\large \\frac{1}{2}$\n",
    "___\n",
    "- $\\displaystyle \\large \\lim_{x \\to 0} \\frac{x}{\\sin(x)}$\n",
    "\n",
    "  Используя таблицу эквивалентностей, в данном случае $\\normalsize \\sin(x) \\sim x$, получим:\n",
    "  \n",
    "  $\\displaystyle \\large \\lim_{x \\to 0} \\frac{x}{\\sin(x)} = \\lim_{x \\to 0} \\frac{x}{x} = 1$\n",
    "  \n",
    "  __Ответ__: $\\large 1$\n",
    "___\n",
    "- $\\displaystyle \\large \\lim_{x \\to 0} \\frac{x}{\\arcsin(x)}$\n",
    "\n",
    "  Аналогично используя таблицу эквивалентностей, в данном случае $\\normalsize \\arcsin(x) \\sim x$, получим:\n",
    "  \n",
    "  $\\displaystyle \\large \\lim_{x \\to 0} \\frac{x}{\\arcsin(x)} = \\lim_{x \\to 0} \\frac{x}{x} = 1$\n",
    "  \n",
    "  __Ответ__: $\\large 1$\n",
    "___\n",
    "- $\\displaystyle \\large \\lim_{x \\to \\infty} \\Bigg(\\frac{4x+3}{4x-3}\\Bigg)^{6x} = \\lim_{x \\to \\infty} \\Bigg(\\frac{4x-3+3+3}{4x-3}\\Bigg)^{6x} = \\lim_{x \\to \\infty} \\Bigg(1+\\frac{6}{4x-3}\\Bigg)^{6x}$\n",
    "\n",
    "  Воспользовавшись формулой: $\\displaystyle \\normalsize \\lim_{x \\to \\infty} U(x)^{V(x)} = e^{\\displaystyle \\lim_{x \\to \\infty} \\big[(U(x)-1)\\cdot V(x)\\big]}$\n",
    "  \n",
    "  получим\n",
    "  \n",
    "  $\\displaystyle \\large \\lim_{x \\to \\infty} \\Bigg(1+\\frac{6}{4x-3}\\Bigg)^{6x} = e^{\\displaystyle \\normalsize \\lim_{x \\to \\infty} \\frac{6\\cdot 6x}{4x-3}} = e^{\\frac{6\\cdot6}{4}} = e^9$\n",
    "  \n",
    "  __Ответ__: $\\large e^9$\n",
    "___\n",
    "- $\\displaystyle \\large \\lim_{x \\to \\infty} \\frac{\\sin x + \\ln x}{x} = \\lim_{x \\to \\infty} \\frac{\\sin x}{x} + \\lim_{x \\to \\infty} \\frac{\\ln x}{x} = 0 + \\lim_{x \\to \\infty} \\frac{\\ln x}{x}$\n",
    "\n",
    "  Используя правило Лопиталя, получим\n",
    "  \n",
    "  $\\displaystyle \\large \\lim_{x \\to \\infty} \\frac{\\ln x}{x} = \\lim_{x \\to \\infty} \\frac{(\\ln x)'}{x'} = \\lim_{x \\to \\infty} \\frac{1}{x} = 0$\n",
    "  \n",
    "  __Ответ:__ $\\large 0$\n",
    "___\n",
    "- $\\displaystyle \\large \\lim_{x \\to 0} \\frac{\\sin x + \\ln x}{x} = \\lim_{x \\to 0} \\frac{\\sin x}{x} + \\lim_{x \\to 0} \\frac{\\ln x}{x} = 1 + \\infty = \\infty$\n",
    "\n",
    "  __Ответ:__ $\\large \\infty$"
   ]
  },
  {
   "cell_type": "markdown",
   "id": "bcfe66de",
   "metadata": {},
   "source": [
    "# Тема \"Понятие о производной\"\n",
    "Найти производные выражений:"
   ]
  },
  {
   "cell_type": "markdown",
   "id": "e43010d3",
   "metadata": {},
   "source": [
    "- $\\large (\\sin x \\cdot \\cos x)' = (\\sin x)'\\cdot\\cos x + \\sin x\\cdot(\\cos x)' = \\cos^2x - \\sin^2x$\n",
    "___\n",
    "- $\\displaystyle \\large \\big(\\ln (2x+1)^3\\big)' = \\frac{1}{(2x+1)^3}\\cdot 3(2x+1)^2\\cdot 2 = {\\displaystyle\\frac{6}{2x+1}}$\n",
    "___\n",
    "- $\\displaystyle \\large \\Bigg(\\frac{x^4}{\\ln x}\\Bigg)' = \\frac{\\big(x^4\\big)'\\cdot \\ln x - x^4\\cdot (\\ln x)'}{\\ln^2x} = \\frac{4x^3\\cdot \\ln x - x^4\\cdot{\\displaystyle \\frac{1}{x}}}{\\ln^2x} = \\frac{x^3(4\\ln x - 1)}{\\ln^2x}$"
   ]
  }
 ],
 "metadata": {
  "kernelspec": {
   "display_name": "Python 3",
   "language": "python",
   "name": "python3"
  },
  "language_info": {
   "codemirror_mode": {
    "name": "ipython",
    "version": 3
   },
   "file_extension": ".py",
   "mimetype": "text/x-python",
   "name": "python",
   "nbconvert_exporter": "python",
   "pygments_lexer": "ipython3",
   "version": "3.8.8"
  }
 },
 "nbformat": 4,
 "nbformat_minor": 5
}
