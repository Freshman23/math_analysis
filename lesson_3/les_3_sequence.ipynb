{
 "cells": [
  {
   "cell_type": "markdown",
   "id": "a94afd55",
   "metadata": {},
   "source": [
    "# Тема \"Последовательность\""
   ]
  },
  {
   "cell_type": "markdown",
   "id": "a90125fc",
   "metadata": {},
   "source": [
    "__Задание №1.__ Как относятся друг к другу множество и последовательность? (в ответе использовать слова типа: часть, целое, общее, частное, родитель, дочерний субъект и т.д.)\n",
    "\n",
    "Рассматривая частный случай __множества__ - понятие __мультимножества__, являющееся совокупностью элементов, в которой каждый элемент может встречаться более одного раза (_кратность_ их больше либо равна 1), можно определить понятие __последовательности__ как частный случай множества, являющейся совокупностью _упорядоченных_ элементов (каждому элементу соответствует порядковый номер), в которой каждый элемент может встречаться более одного раза.\n",
    "___"
   ]
  },
  {
   "cell_type": "markdown",
   "id": "1b24517d",
   "metadata": {},
   "source": [
    "__Задание №2.__ Исследовать данные последовательности на монотонность и ограниченность, найти 5-ый член последовательностей.\n",
    "\n",
    "- $\\large \\big\\{a_n\\big\\}_{n=1}^\\infty = 2^n-n$\n",
    "\n",
    "  $\\large \\big\\{a_n\\big\\}_{n=1}^\\infty = \\big\\{1,\\,2,\\,5,\\,12,\\,27,...,\\,2^n-n,...\\big\\}$\n",
    "  \n",
    "  Последовательность монотонная возрастающая, ограничена снизу: $\\normalsize [1,\\,+\\infty)$.\n",
    "  \n",
    "  $\\normalsize a_5 = 27$\n",
    "___\n",
    "- $\\large \\big\\{b_n\\big\\}_{n=2}^\\infty = \\frac{1}{1-n}$\n",
    "\n",
    "  $\\large \\big\\{b_n\\big\\}_{n=2}^\\infty = \\big\\{-1,\\,-\\frac{1}{2},\\,-\\frac{1}{3},\\,-\\frac{1}{4},\\,-\\frac{1}{5},...,\\,\\frac{1}{1-n},...\\big\\}$\n",
    "  \n",
    "  Последовательность монотонная возрастающая, ограничена снизу и сверху: $\\normalsize [-1,\\,0)$.\n",
    "  \n",
    "  Если учесть что отсчет $\\normalsize n$ начинается с 2, то $\\normalsize b_5 = -\\frac{1}{5}$ при $\\normalsize n=6$.\n",
    "___\n",
    "- $\\large \\big\\{c_n\\big\\}_{n=1}^\\infty = (-1)^n + \\sqrt{2n}$\n",
    "\n",
    "  $\\large \\big\\{c_n\\big\\}_{n=1}^\\infty = \\big\\{0.414,\\,3,\\,1.449,\\,3,828,\\,2.162,...,\\,(-1)^n + \\sqrt{2n},...\\big\\}$\n",
    "  \n",
    "  Последовательность не монотонная, ограничена снизу: $\\normalsize \\big[\\sqrt2 - 1,\\,+\\infty\\big)$.\n",
    "  \n",
    "  $\\normalsize  c_5 = \\sqrt{10} - 1 \\approx 2.162$.\n",
    "___\n",
    "- $\\large \\big\\{d_n\\big\\}_{n=1}^\\infty = (-1)^{2n} + \\frac{1}{n^2} = 1 + \\frac{1}{n^2}$\n",
    "\n",
    "  $\\large \\big\\{d_n\\big\\}_{n=1}^\\infty = \\big\\{2,\\,1\\frac{1}{4},\\,1\\frac{1}{9},\\,1\\frac{1}{16},\\,1\\frac{1}{25},\\,...,\\,1 + \\frac{1}{n^2},...\\big\\}$\n",
    "  \n",
    "  Последовательность монотонная, убывающая, ограничена сверху и снизу: $\\normalsize [2,\\,1)$.\n",
    "  \n",
    "  $\\normalsize d_5 = 1\\frac{1}{25} = 1.04$\n",
    "  ___"
   ]
  },
  {
   "cell_type": "markdown",
   "id": "39f5a746",
   "metadata": {},
   "source": [
    "__Задание №3.__ Найти 12-й член заданной неявно последовательности: $\\large a_1 = 128,\\, a_{n+1} - a_n = 6$\n",
    "\n",
    "Это арифметическая прогрессия. Формула для нахождения __n__-го члена прогрессии:\n",
    "\n",
    "$$\\large a_n = a_1 + b(n-1),$$\n",
    "\n",
    "где $\\normalsize b = a_{n+1} - a_n$.\n",
    "\n",
    "Подставив данные значения, найдем:\n",
    "\n",
    "$\\normalsize a_{12} = 128 + 6 \\cdot (12 - 1) = 194$\n",
    "___"
   ]
  },
  {
   "cell_type": "markdown",
   "id": "de564add",
   "metadata": {},
   "source": [
    "__Задание №4, 5.__ \\*На языке Python предложить алгоритм, с точностью $\\normalsize \\varepsilon = 10^{-7}$ вычисляющий численно предел:\n",
    "\n",
    "$$\\large \\lim_{n \\to +\\infty} \\frac{n}{\\sqrt[n]{n!}}.$$\n",
    "\n",
    "Исходя из формулы Стирлинга:\n",
    "\n",
    "$$\\large \\lim _{n\\to \\infty }{\\frac {n!}{{\\sqrt {2\\pi n}}\\,\\left({\\frac {n}{e}}\\right)^{n}}}=1,$$\n",
    "\n",
    "получим, что при $\\normalsize n \\to \\infty$\n",
    "\n",
    "$$\\large n!\\sim {\\sqrt  {2\\pi n}}\\left({\\frac  {n}{e}}\\right)^{n}.$$\n",
    "\n",
    "Тогда, вместо $\\normalsize n!$ подставив эквивалентное выражение в первоначальный предел, получим\n",
    "\n",
    "$$\\large \\lim_{n \\to +\\infty} \\frac{n}{\\sqrt[n]{n!}} = \\lim_{n \\to +\\infty} \\frac{n}{\\sqrt[n]{{\\sqrt {2\\pi n}}\\left({\\frac {n}{e}}\\right)^{n}}} = \\lim_{n \\to +\\infty} \\frac{n}{\\sqrt[2n]{2\\pi n}\\big(\\frac {n}{e}\\big)} = \\lim_{n \\to +\\infty} \\frac{e}{\\sqrt[2n]{2\\pi n}} = \\frac{e}{\\displaystyle \\lim_{n \\to +\\infty} \\sqrt[2n]{2\\pi n}}$$"
   ]
  },
  {
   "cell_type": "markdown",
   "id": "b4794a29",
   "metadata": {},
   "source": [
    "__Аналитическое решение__\n",
    "\n",
    "Воспользовавшись свойствами пределов и некоторыми шаблонными решениями:\n",
    "\n",
    "$$\\large \\lim_{n \\to +\\infty} (u \\cdot v) = \\lim_{n \\to +\\infty} u \\cdot \\lim_{n \\to +\\infty} v,$$\n",
    "\n",
    "$$\\large \\lim_{n \\to +\\infty} \\big(u\\big)^c = \\bigg(\\lim_{n \\to +\\infty} u\\bigg)^c,$$\n",
    "\n",
    "$$\\large \\lim_{n \\to +\\infty} \\sqrt[n]{n} = 1,$$\n",
    "\n",
    "где $\\normalsize u=u(n),\\, v=v(n),\\, c=const,$ выполним преобразования:\n",
    "\n",
    "$$\\large \\lim_{n \\to +\\infty} (2\\pi n)^{\\frac{1}{2n}} = \\lim_{n \\to +\\infty} (2\\pi)^{\\frac{1}{2n}} \\cdot \\lim_{n \\to +\\infty} n^{\\frac{1}{2n}} = 1 \\cdot \\lim_{n \\to +\\infty} \\big(n^{\\frac{1}{n}}\\big)^{\\frac{1}{2}} = \\bigg(\\lim_{n \\to +\\infty} n^{\\frac{1}{n}}\\bigg)^{\\frac{1}{2}} = \\bigg(\\lim_{n \\to +\\infty} \\sqrt[n]{n}\\bigg)^{\\frac{1}{2}} = 1^{\\frac{1}{2}} = 1$$\n",
    "\n",
    "Тогда\n",
    "\n",
    "$$\\large \\lim_{n \\to +\\infty} \\frac{n}{\\sqrt[n]{n!}} =  \\frac{e}{\\displaystyle \\lim_{n \\to +\\infty} \\sqrt[2n]{2\\pi n}} = e$$"
   ]
  },
  {
   "cell_type": "markdown",
   "id": "5d1d7f45",
   "metadata": {},
   "source": [
    "__Численное решение__"
   ]
  },
  {
   "cell_type": "code",
   "execution_count": 1,
   "id": "180a916b",
   "metadata": {},
   "outputs": [
    {
     "name": "stdout",
     "output_type": "stream",
     "text": [
      "Значение предела: 2.7182812466218715\n",
      "Номер элемента последовательности: 45482561\n",
      "Значение точности: 9.999999672771764e-08\n",
      "Количество итераций: 60\n"
     ]
    }
   ],
   "source": [
    "import math\n",
    "\n",
    "\n",
    "def func(num):\n",
    "    # Заданная функция\n",
    "    val = math.e / pow(2 * math.pi * num, 1 / (2 * num))\n",
    "    return val\n",
    "\n",
    "\n",
    "eps = 0.0000001     # Заданное значение точности\n",
    "n = 1               # Текущий элемент\n",
    "k = int(1 / eps)    # Количество элементов между рассматриваемыми\n",
    "i = 0               # Счетчик итераций\n",
    "incr = 1            # Приращение номера элемента\n",
    "drop_mark = False   # Метка снижения приращения\n",
    "\n",
    "while True:\n",
    "    i += 1\n",
    "    dif = func(n + k) - func(n)\n",
    "    \n",
    "    if dif > eps:\n",
    "        incr = incr * 10 if not drop_mark else incr\n",
    "        n += incr\n",
    "    elif incr != 1:\n",
    "        n -= incr\n",
    "        incr /= 10\n",
    "        drop_mark = True\n",
    "    else:\n",
    "        lim = func(n)\n",
    "        break\n",
    "\n",
    "print(f'Значение предела: {lim}',\n",
    "      f'Номер элемента последовательности: {int(n)}',\n",
    "      f'Значение точности: {dif}',\n",
    "      f'Количество итераций: {i}',\n",
    "      sep='\\n')"
   ]
  }
 ],
 "metadata": {
  "kernelspec": {
   "display_name": "Python 3",
   "language": "python",
   "name": "python3"
  },
  "language_info": {
   "codemirror_mode": {
    "name": "ipython",
    "version": 3
   },
   "file_extension": ".py",
   "mimetype": "text/x-python",
   "name": "python",
   "nbconvert_exporter": "python",
   "pygments_lexer": "ipython3",
   "version": "3.8.8"
  }
 },
 "nbformat": 4,
 "nbformat_minor": 5
}
