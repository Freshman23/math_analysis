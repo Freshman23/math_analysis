{
 "cells": [
  {
   "cell_type": "markdown",
   "id": "3af00eaa",
   "metadata": {},
   "source": [
    "# Тема \"Понятие о производной\""
   ]
  },
  {
   "cell_type": "markdown",
   "id": "08fb49aa",
   "metadata": {},
   "source": [
    "__Задание №1__ Найти производную выражения:\n",
    "\n",
    "$\\displaystyle \\large \\Bigg(\\sqrt{\\sin^2(\\ln(x^3))}\\Bigg)' = \\frac{1}{2\\sqrt{\\sin^2(\\ln(x^3))}} \\cdot 2\\sin(\\ln(x^3)) \\cdot \\cos(\\ln(x^3)) \\cdot \\frac{1}{x^3} \\cdot 3x^2 = \\frac{3\\sin\\big(\\ln(x^3)\\big)\\cos\\big(\\ln(x^3)\\big)}{x\\cdot\\Big|\\sin\\big(\\ln(x^3)\\big)\\Big|} = \\frac{3\\sin\\big(2\\ln(x^3)\\big)}{2x\\cdot\\Big|\\sin\\big(\\ln(x^3)\\big)\\Big|}$"
   ]
  },
  {
   "cell_type": "markdown",
   "id": "74665ec1",
   "metadata": {},
   "source": [
    "__Задание №2__ Найти выражение производной функции и ее значение в точке:\n",
    "\n",
    "$\\large f(x)=\\cos(x^2+3x),\\,\\,x_0=\\sqrt{\\pi}$\n",
    "\n",
    "$\\large f'(x)=-\\sin(x^2+3x)\\cdot(2x+3)$\n",
    "\n",
    "$\\large f'\\Big(\\sqrt{\\pi}\\Big)=-\\sin\\Big(\\pi+3\\sqrt{\\pi}\\Big)\\cdot\\Big(2\\sqrt{\\pi}+3\\Big) = \\sin\\Big(3\\sqrt{\\pi}\\Big)\\cdot\\Big(2\\sqrt{\\pi}+3\\Big)$"
   ]
  },
  {
   "cell_type": "markdown",
   "id": "9f38aa5a",
   "metadata": {},
   "source": [
    "__Задание №3__ Найти значение производной функции в точке:\n",
    "\n",
    "$\\displaystyle\\large f(x) = \\frac{x^3-x^2-x-1}{1+2x+3x^2-4x^3},\\,\\,x_0=0$\n",
    "\n",
    "$\\displaystyle\\large f'(x) = \\frac{(x^3-x^2-x-1)'\\cdot (1+2x+3x^2-4x^3) - (x^3-x^2-x-1)\\cdot (1+2x+3x^2-4x^3)'}{(1+2x+3x^2-4x^3)^2} = \\frac{(3x^2-2x-1)\\cdot (1+2x+3x^2-4x^3) - (x^3-x^2-x-1)\\cdot (2+6x-12x^2)}{(1+2x+3x^2-4x^3)^2}$\n",
    "\n",
    "$\\displaystyle\\large f'(0) = \\frac{-1\\cdot 1 - (-1)\\cdot 2}{1^2} = 1$"
   ]
  },
  {
   "cell_type": "markdown",
   "id": "35bfb784",
   "metadata": {},
   "source": [
    "__Задание №4__ Найти угол наклона касательной к графику функции в точке:\n",
    "\n",
    "$\\displaystyle\\large f(x)=\\sqrt{3x}\\cdot\\ln{x},\\,\\,x_0=1$\n",
    "\n",
    "Так как значение производной функции в определенной точке равно тангенсу угла наклона касательной к графику функции в этой точке:\n",
    "\n",
    "$\\displaystyle\\large f'(x_0) = \\tan\\alpha$.\n",
    "\n",
    "Тогда угол наклона касателной будет равен:\n",
    "\n",
    "$\\displaystyle\\large \\alpha = \\arctan\\big(f'(x_0)\\big)$\n",
    "\n",
    "$\\displaystyle\\large f'(x) = \\big(\\sqrt{3x}\\big)'\\cdot\\ln{x} + \\sqrt{3x}\\cdot(\\ln{x})'= \\frac{1}{2\\sqrt{3x}}\\cdot 3\\cdot\\ln{x} + \\sqrt{3x}\\cdot\\frac{1}{x}$\n",
    "\n",
    "$\\displaystyle\\large f'(1) = \\frac{1}{2\\sqrt{3\\cdot1}}\\cdot3\\cdot\\ln1 + \\sqrt{3\\cdot1}\\cdot\\frac{1}{1} = \\sqrt{3}$\n",
    "\n",
    "$\\displaystyle\\large \\alpha = \\arctan\\big(\\sqrt{3}\\big) = \\frac{\\pi}{3} + \\pi n,\\,\\,n\\in Z$\n",
    "\n",
    "Возьмем угол в первом периоде:\n",
    "\n",
    "$\\displaystyle\\large \\alpha = \\frac{\\pi}{3}$"
   ]
  }
 ],
 "metadata": {
  "kernelspec": {
   "display_name": "Python 3",
   "language": "python",
   "name": "python3"
  },
  "language_info": {
   "codemirror_mode": {
    "name": "ipython",
    "version": 3
   },
   "file_extension": ".py",
   "mimetype": "text/x-python",
   "name": "python",
   "nbconvert_exporter": "python",
   "pygments_lexer": "ipython3",
   "version": "3.8.8"
  }
 },
 "nbformat": 4,
 "nbformat_minor": 5
}
