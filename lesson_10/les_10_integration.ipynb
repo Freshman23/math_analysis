{
 "cells": [
  {
   "cell_type": "markdown",
   "id": "2291aa98",
   "metadata": {},
   "source": [
    "# Тема \"Интеграл\""
   ]
  },
  {
   "cell_type": "markdown",
   "id": "cd6d5d8e",
   "metadata": {},
   "source": [
    "### Задание №1.\n",
    "Найти неопределенный интеграл:\n",
    "\n",
    "$\\large\\displaystyle\\int\\big(2x^2-2x-1+\\sin x-\\cos x+\\ln x+e^x\\big)dx$\n",
    "\n",
    "Данный интеграл находится как сумма интегралов отдельных слагаемых (практически все табличного вида). Отдельно рассмотрим нахождение интеграла от _ln(x)_ интегрированием по частям:\n",
    "\n",
    "$\\large\\displaystyle\\int UdV = U\\cdot V - \\int VdU$, где\n",
    "\n",
    "$\\large\\displaystyle U=\\ln x\\,\\,\\,\\Rightarrow\\,\\,\\,dU=\\frac{dx}{x}$\n",
    "\n",
    "$\\large\\displaystyle dV=dx\\,\\,\\,\\Rightarrow\\,\\,\\,V=x$\n",
    "\n",
    "Тогда\n",
    "\n",
    "$\\large\\displaystyle\\int\\ln xdx = x\\cdot\\ln x - \\int x\\cdot\\frac{dx}{x} = x\\ln x-x+C$\n",
    "\n",
    "Найдем общий интеграл:\n",
    "\n",
    "$\\large\\displaystyle\\int\\big(2x^2-2x-1+\\sin x-\\cos x+\\ln x+e^x\\big)dx = \\frac{2}{3}x^3-x^2-x-\\cos x-\\sin x+x\\ln x-x+e^x+C = \\frac{2}{3}x^3-x^2-2x-\\cos x-\\sin x+x\\ln x+e^x+C$\n",
    "___"
   ]
  },
  {
   "cell_type": "markdown",
   "id": "331874d5",
   "metadata": {},
   "source": [
    "### Задание №2.\n",
    "Найти неопределенный интеграл:\n",
    "\n",
    "$\\large\\displaystyle\\int\\big(2x+6xz^2-5x^2y-3\\ln z\\big)dx$\n",
    "\n",
    "Так как интегрирование происходит по x, то все остальные переменные выступают в качестве констант. Поэтому\n",
    "\n",
    "$\\large\\displaystyle\\int\\big(2x+6xz^2-5x^2y-3\\ln z\\big)dx = x^2+3x^2z^2-\\frac{5}{3}x^3y-3x\\ln z+C$\n",
    "___"
   ]
  },
  {
   "cell_type": "markdown",
   "id": "82f21291",
   "metadata": {},
   "source": [
    "### Задание №3.\n",
    "Вычислить определенный интеграл:\n",
    "\n",
    "$\\large\\displaystyle\\int\\limits_0^\\pi3x^2\\sin(2x)dx$\n",
    "\n",
    "Сначала найдем неопределённый интеграл, проинтегрировав по частям:\n",
    "\n",
    "$\\large\\displaystyle U=3x^2\\,\\,\\,\\Rightarrow\\,\\,\\,dU=6xdx$\n",
    "\n",
    "$\\large\\displaystyle dV=\\sin(2x)dx\\,\\,\\,\\Rightarrow\\,\\,\\,V=-\\frac{1}{2}\\cos(2x)$\n",
    "\n",
    "$\\large\\displaystyle\\int3x^2\\sin(2x)dx = -\\frac{3}{2}x^2\\cos(2x) + \\int3x\\cos(2x)dx$\n",
    "\n",
    "Еще раз проинтегрируем по частям:\n",
    "\n",
    "$\\large\\displaystyle U=3x\\,\\,\\,\\Rightarrow\\,\\,\\,dU=3dx$\n",
    "\n",
    "$\\large\\displaystyle dV=\\cos(2x)dx\\,\\,\\,\\Rightarrow\\,\\,\\,V=\\frac{1}{2}\\sin(2x)$\n",
    "\n",
    "$\\large\\displaystyle-\\frac{3}{2}x^2\\cos(2x) + \\int3x\\cos(2x)dx = -\\frac{3}{2}x^2\\cos(2x) + \\frac{3}{2}x\\sin(2x) - \\int\\frac{3}{2}\\sin(2x)dx = -\\frac{3}{2}x^2\\cos(2x) + \\frac{3}{2}x\\sin(2x) + \\frac{3}{4}\\cos(2x) + C$\n",
    "\n",
    "Тогда\n",
    "\n",
    "$\\large\\displaystyle\\int\\limits_0^\\pi3x^2\\sin(2x)dx = -\\frac{3}{2}x^2\\cos(2x) + \\frac{3}{2}x\\sin(2x) + \\frac{3}{4}\\cos(2x)\\,\\Bigg|_0^\\pi = -\\frac{3}{2}\\pi^2\\cos(2\\pi) + \\frac{3}{2}\\pi\\sin(2\\pi) + \\frac{3}{4}\\cos(2\\pi) - \\frac{3}{4}\\cos0 = -\\frac{3}{2}\\pi^2$\n",
    "___"
   ]
  },
  {
   "cell_type": "markdown",
   "id": "0c696a7c",
   "metadata": {},
   "source": [
    "### Задание №4.\n",
    "Найти неопределенный интеграл:\n",
    "\n",
    "$\\large\\displaystyle\\int\\frac{1}{\\sqrt{x+1}}dx = \\int(x+1)^{-\\frac{1}{2}}d(x+1) = 2(x+1)^{\\frac{1}{2}}+C = 2\\sqrt{x+1}+C$"
   ]
  }
 ],
 "metadata": {
  "kernelspec": {
   "display_name": "Python 3",
   "language": "python",
   "name": "python3"
  },
  "language_info": {
   "codemirror_mode": {
    "name": "ipython",
    "version": 3
   },
   "file_extension": ".py",
   "mimetype": "text/x-python",
   "name": "python",
   "nbconvert_exporter": "python",
   "pygments_lexer": "ipython3",
   "version": "3.8.8"
  }
 },
 "nbformat": 4,
 "nbformat_minor": 5
}
